{
 "cells": [
  {
   "cell_type": "code",
   "execution_count": 1,
   "id": "initial_id",
   "metadata": {
    "collapsed": true,
    "ExecuteTime": {
     "end_time": "2024-04-03T02:40:59.823875Z",
     "start_time": "2024-04-03T02:40:52.272340Z"
    }
   },
   "outputs": [],
   "source": [
    "from assignment2 import COVID19RadiographyDataset, AugmentedCOVID19RadiographyDataset, CNNModel, Prediction\n"
   ]
  },
  {
   "cell_type": "code",
   "execution_count": 2,
   "outputs": [],
   "source": [
    "#example usage:\n",
    "#set base path and categories based on your data\n",
    "base_path = 'COVID-19_Radiography_Dataset'\n",
    "categories = ['COVID/images', 'Normal/images', 'Viral Pneumonia/images']"
   ],
   "metadata": {
    "collapsed": false,
    "ExecuteTime": {
     "end_time": "2024-04-03T02:41:13.240095Z",
     "start_time": "2024-04-03T02:41:13.232437Z"
    }
   },
   "id": "42804dc9cab16b4f"
  },
  {
   "cell_type": "code",
   "execution_count": 3,
   "outputs": [],
   "source": [
    "# load data and preprocess\n",
    "dataset = COVID19RadiographyDataset(base_path, categories)\n",
    "image_filepaths = dataset.load_filenames()\n",
    "X = dataset.preprocess_images(image_filepaths)\n",
    "y, y_labels = dataset.create_labels(len(X) // len(categories))"
   ],
   "metadata": {
    "collapsed": false,
    "ExecuteTime": {
     "end_time": "2024-04-03T02:43:20.522252Z",
     "start_time": "2024-04-03T02:41:25.967117Z"
    }
   },
   "id": "89c1714c623265f8"
  },
  {
   "cell_type": "code",
   "execution_count": 4,
   "outputs": [],
   "source": [
    "#data augmentation\n",
    "augmented_dataset = AugmentedCOVID19RadiographyDataset(X, y, image_filepaths, y_labels)\n",
    "X_augmented, y_augmented = augmented_dataset.augment_data(n_augmentations=1)"
   ],
   "metadata": {
    "collapsed": false,
    "ExecuteTime": {
     "end_time": "2024-04-03T02:47:49.497305Z",
     "start_time": "2024-04-03T02:43:20.466180Z"
    }
   },
   "id": "77adbef6c766b84b"
  },
  {
   "cell_type": "code",
   "execution_count": 5,
   "outputs": [],
   "source": [
    "# load CNN model\n",
    "cnn_model = CNNModel()\n",
    "trained_model = cnn_model.load_trained_model('bes_model_cnn2.h5')"
   ],
   "metadata": {
    "collapsed": false,
    "ExecuteTime": {
     "end_time": "2024-04-03T02:47:50.488551Z",
     "start_time": "2024-04-03T02:47:49.465454Z"
    }
   },
   "id": "926dc835b1dfc71a"
  },
  {
   "cell_type": "code",
   "execution_count": 6,
   "outputs": [
    {
     "name": "stdout",
     "output_type": "stream",
     "text": [
      "948/948 [==============================] - 641s 675ms/step\n"
     ]
    }
   ],
   "source": [
    "# prediction\n",
    "predictor = Prediction(trained_model)\n",
    "predictions = predictor.predict(X_augmented)"
   ],
   "metadata": {
    "collapsed": false,
    "ExecuteTime": {
     "end_time": "2024-04-03T03:00:06.340706Z",
     "start_time": "2024-04-03T02:47:50.495636Z"
    }
   },
   "id": "6caffe769d0035f5"
  },
  {
   "cell_type": "code",
   "execution_count": 7,
   "outputs": [
    {
     "data": {
      "text/plain": "array([[3.1128910e-01, 6.8806821e-01, 6.4273202e-04],\n       [2.0519182e-01, 7.9467726e-01, 1.3078217e-04],\n       [6.0988921e-01, 3.2706514e-01, 6.3045636e-02],\n       ...,\n       [6.8801666e-05, 4.4395475e-07, 9.9993068e-01],\n       [5.7345703e-16, 2.3013241e-15, 1.0000000e+00],\n       [3.6185311e-06, 8.4132841e-07, 9.9999559e-01]], dtype=float32)"
     },
     "execution_count": 7,
     "metadata": {},
     "output_type": "execute_result"
    }
   ],
   "source": [
    "predictions"
   ],
   "metadata": {
    "collapsed": false,
    "ExecuteTime": {
     "end_time": "2024-04-03T03:00:06.829783Z",
     "start_time": "2024-04-03T03:00:06.644537Z"
    }
   },
   "id": "505dac190ce53d7b"
  }
 ],
 "metadata": {
  "kernelspec": {
   "display_name": "Python 3",
   "language": "python",
   "name": "python3"
  },
  "language_info": {
   "codemirror_mode": {
    "name": "ipython",
    "version": 2
   },
   "file_extension": ".py",
   "mimetype": "text/x-python",
   "name": "python",
   "nbconvert_exporter": "python",
   "pygments_lexer": "ipython2",
   "version": "2.7.6"
  }
 },
 "nbformat": 4,
 "nbformat_minor": 5
}
